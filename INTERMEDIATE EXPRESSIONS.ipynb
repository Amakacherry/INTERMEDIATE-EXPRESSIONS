{
 "cells": [
  {
   "cell_type": "markdown",
   "id": "98904118-355e-438f-b7e7-cc635dea9ccf",
   "metadata": {},
   "source": [
    "NUMERIC EXPRESSIONS\n",
    "\n",
    "Because of the lack of mathematical symbols on computer keyboards,we use 'computer-speak'\n",
    "to express the classic math exression.\n",
    "- Asterisk is multiplication\n",
    "- Exponentiation (raise to a power) looks diift than in maths\n",
    "\n",
    "Operator              Operation\n",
    "+                     Addition\n",
    "-                     Subtraction\n",
    "*                     Multiplication\n",
    "/                     Division\n",
    "**                    Power\n",
    "%                     Remainder\n",
    "\n",
    "ORDER OF EVALUATION\n",
    "- When we string operators together - Python must know which one to do first\n",
    "- This is called \"Operator Precedence\"\n",
    "- Which operator takes precedence over the others?\n",
    "\n",
    "x = 1 + 2 * 3 - 4 / 5 ** 6\n",
    "\n",
    "Operator Precedence Rules\n",
    "- Parenthesis are always respected                   Parenthesis\n",
    "- Exponentiation (raise to a power)                  Power\n",
    "- Multiplication, Division, and Remainder            Multiplication  \n",
    "- Addition and Subtraction                           Addition\n",
    "- Left to Right                                      Left to Right\n",
    "\n",
    "Remember the rules top to bottom\n",
    "When writing code - use parenthesis\n",
    "When writing code - keep mthmatical expression simple enough that they're easy to understand\n",
    "Break long series of maths operation up to make them more clear\n"
   ]
  },
  {
   "cell_type": "code",
   "execution_count": 1,
   "id": "6660ecfb-81f6-4f91-b42f-5dc98d8d2ada",
   "metadata": {},
   "outputs": [
    {
     "name": "stdout",
     "output_type": "stream",
     "text": [
      "4\n"
     ]
    }
   ],
   "source": [
    "xx =2\n",
    "xx = xx + 2\n",
    "print(xx)\n"
   ]
  },
  {
   "cell_type": "code",
   "execution_count": 2,
   "id": "9dae7ea1-909d-4127-8ae7-2328d091d9b6",
   "metadata": {},
   "outputs": [
    {
     "name": "stdout",
     "output_type": "stream",
     "text": [
      "5280\n"
     ]
    }
   ],
   "source": [
    "yy = 440 * 12\n",
    "print(yy)\n"
   ]
  },
  {
   "cell_type": "code",
   "execution_count": 3,
   "id": "d78c4c0b-1214-447d-a571-cf7c982e111a",
   "metadata": {},
   "outputs": [
    {
     "name": "stdout",
     "output_type": "stream",
     "text": [
      "5.28\n"
     ]
    }
   ],
   "source": [
    "zz = yy/1000\n",
    "print(zz)"
   ]
  },
  {
   "cell_type": "code",
   "execution_count": 4,
   "id": "be9fab49-7047-451f-ae05-40bf23a13235",
   "metadata": {},
   "outputs": [
    {
     "name": "stdout",
     "output_type": "stream",
     "text": [
      "3\n"
     ]
    }
   ],
   "source": [
    "jj = 23\n",
    "kk = jj % 5\n",
    "print(kk)"
   ]
  },
  {
   "cell_type": "code",
   "execution_count": 5,
   "id": "911c60f4-5bae-4dba-ac21-e62e1adbaa37",
   "metadata": {},
   "outputs": [
    {
     "name": "stdout",
     "output_type": "stream",
     "text": [
      "64\n"
     ]
    }
   ],
   "source": [
    "print(4 ** 3)"
   ]
  },
  {
   "cell_type": "code",
   "execution_count": 6,
   "id": "3df0a579-e18e-44fb-9d2e-bc599554df92",
   "metadata": {},
   "outputs": [
    {
     "name": "stdout",
     "output_type": "stream",
     "text": [
      "6.999744\n"
     ]
    }
   ],
   "source": [
    "x = 1 + 2 * 3 - 4 / 5 ** 6\n",
    "print(x)"
   ]
  },
  {
   "cell_type": "code",
   "execution_count": 7,
   "id": "2efee8e7-821f-443a-9adc-2acd9277d334",
   "metadata": {},
   "outputs": [
    {
     "name": "stdout",
     "output_type": "stream",
     "text": [
      "11.0\n"
     ]
    }
   ],
   "source": [
    "x = 1 + 2 ** 3 / 4 * 5\n",
    "print(x)       # Parenthesis, power, multiplication, addition, left to right"
   ]
  },
  {
   "cell_type": "markdown",
   "id": "def7d786-163e-446f-b031-1037fa3828e5",
   "metadata": {},
   "source": [
    "## WHAT DOES \"TYPE\" MEAN?\n",
    "\n",
    "- In Python,variables, literals, and constants have a \"type\"\n",
    "- Python knows the diff btw an integer number and a string\n",
    "- For example \"+\" means ADD if smth is a number and 'concatenate' if smth is a string\n",
    "CONCATENATE = Put together\n",
    "\n"
   ]
  },
  {
   "cell_type": "code",
   "execution_count": 8,
   "id": "b38ff211-4a18-480a-b05b-720519a86cdc",
   "metadata": {},
   "outputs": [
    {
     "name": "stdout",
     "output_type": "stream",
     "text": [
      "5\n"
     ]
    }
   ],
   "source": [
    "ddd = 1 + 4\n",
    "print(ddd)"
   ]
  },
  {
   "cell_type": "code",
   "execution_count": 10,
   "id": "ca626fab-44c5-4b5d-bd98-5597addbdf63",
   "metadata": {},
   "outputs": [
    {
     "name": "stdout",
     "output_type": "stream",
     "text": [
      "hello there\n"
     ]
    }
   ],
   "source": [
    "eee = \"hello \" + \"there\"\n",
    "print(eee)"
   ]
  },
  {
   "cell_type": "markdown",
   "id": "d8c43d8d-b46c-48c4-ad55-4b6616122b75",
   "metadata": {},
   "source": [
    "## TYPE MATTERS\n",
    "\n",
    "- Python know what 'Type'everything is\n",
    "- Some operations are prohibited\n",
    "- You cannot add 1 to a string\n",
    "- We can ask Python what 'Type' smth is by using the type() function"
   ]
  },
  {
   "cell_type": "code",
   "execution_count": 1,
   "id": "631cd5e5-ea6a-4049-add9-a7438d908110",
   "metadata": {},
   "outputs": [
    {
     "ename": "TypeError",
     "evalue": "can only concatenate str (not \"int\") to str",
     "output_type": "error",
     "traceback": [
      "\u001b[1;31m---------------------------------------------------------------------------\u001b[0m",
      "\u001b[1;31mTypeError\u001b[0m                                 Traceback (most recent call last)",
      "Input \u001b[1;32mIn [1]\u001b[0m, in \u001b[0;36m<cell line: 2>\u001b[1;34m()\u001b[0m\n\u001b[0;32m      1\u001b[0m eee \u001b[38;5;241m=\u001b[39m \u001b[38;5;124m'\u001b[39m\u001b[38;5;124mhello \u001b[39m\u001b[38;5;124m'\u001b[39m \u001b[38;5;241m+\u001b[39m \u001b[38;5;124m'\u001b[39m\u001b[38;5;124mthere\u001b[39m\u001b[38;5;124m'\u001b[39m\n\u001b[1;32m----> 2\u001b[0m eee \u001b[38;5;241m=\u001b[39m \u001b[43meee\u001b[49m\u001b[43m \u001b[49m\u001b[38;5;241;43m+\u001b[39;49m\u001b[43m \u001b[49m\u001b[38;5;241;43m1\u001b[39;49m\n",
      "\u001b[1;31mTypeError\u001b[0m: can only concatenate str (not \"int\") to str"
     ]
    }
   ],
   "source": [
    "eee = 'hello ' + 'there'\n",
    "eee = eee + 1"
   ]
  },
  {
   "cell_type": "code",
   "execution_count": 2,
   "id": "6cf453c6-fb4b-46f9-99c8-77602dae8395",
   "metadata": {},
   "outputs": [
    {
     "data": {
      "text/plain": [
       "str"
      ]
     },
     "execution_count": 2,
     "metadata": {},
     "output_type": "execute_result"
    }
   ],
   "source": [
    "type(eee)\n"
   ]
  },
  {
   "cell_type": "code",
   "execution_count": 4,
   "id": "1b00665d-2c66-44e1-b608-9216b8c8ce66",
   "metadata": {},
   "outputs": [
    {
     "data": {
      "text/plain": [
       "str"
      ]
     },
     "execution_count": 4,
     "metadata": {},
     "output_type": "execute_result"
    }
   ],
   "source": [
    "type('hello')"
   ]
  },
  {
   "cell_type": "code",
   "execution_count": 5,
   "id": "5758c77d-a13d-430c-a2d8-87a93fe624b7",
   "metadata": {},
   "outputs": [
    {
     "data": {
      "text/plain": [
       "int"
      ]
     },
     "execution_count": 5,
     "metadata": {},
     "output_type": "execute_result"
    }
   ],
   "source": [
    "type(1)"
   ]
  },
  {
   "cell_type": "markdown",
   "id": "40b6bf40-5dea-43ac-9525-49e0bef3bfee",
   "metadata": {},
   "source": [
    "## SEVERAL TYPES OF NUMBERS\n",
    "\n",
    "- Numbers have two main types\n",
    "- Integers are whole numbers -14, -2, 0, 1, 100, 401233\n",
    "- Floating point numbers have decimal parts:-2.5, 0.0, 98.6, 14.0\n",
    "- There are other number types - they are variations on float and integer"
   ]
  },
  {
   "cell_type": "code",
   "execution_count": 6,
   "id": "276eb453-9c59-44a6-9eb2-c7e405656a92",
   "metadata": {},
   "outputs": [
    {
     "data": {
      "text/plain": [
       "int"
      ]
     },
     "execution_count": 6,
     "metadata": {},
     "output_type": "execute_result"
    }
   ],
   "source": [
    "xx = 1\n",
    "type(xx)"
   ]
  },
  {
   "cell_type": "code",
   "execution_count": 7,
   "id": "95e8de3f-fb54-41ac-8e3b-4bd54a8bc312",
   "metadata": {},
   "outputs": [
    {
     "data": {
      "text/plain": [
       "float"
      ]
     },
     "execution_count": 7,
     "metadata": {},
     "output_type": "execute_result"
    }
   ],
   "source": [
    "temp = 98.6\n",
    "type(temp)"
   ]
  },
  {
   "cell_type": "code",
   "execution_count": 8,
   "id": "192625bc-2980-4d7b-87dc-301b736e70c4",
   "metadata": {},
   "outputs": [
    {
     "data": {
      "text/plain": [
       "int"
      ]
     },
     "execution_count": 8,
     "metadata": {},
     "output_type": "execute_result"
    }
   ],
   "source": [
    "type(1)"
   ]
  },
  {
   "cell_type": "code",
   "execution_count": 9,
   "id": "9fee1516-bc7f-4dee-84e3-0e3a9308ed21",
   "metadata": {},
   "outputs": [
    {
     "data": {
      "text/plain": [
       "float"
      ]
     },
     "execution_count": 9,
     "metadata": {},
     "output_type": "execute_result"
    }
   ],
   "source": [
    "type(1.0)"
   ]
  },
  {
   "cell_type": "markdown",
   "id": "3b130ad3-7cfe-4d08-be94-b2e658907ecd",
   "metadata": {},
   "source": [
    "## TYPE CONVERSIONS\n",
    "\n",
    "- When you put an integer and foating point in an expression, the integer\n",
    "- is implicitly converted to a float\n",
    "- You can control this with the built-in functions int() and float()"
   ]
  },
  {
   "cell_type": "code",
   "execution_count": 10,
   "id": "93cfde5d-66d1-46f9-bf5c-6cab19b4be07",
   "metadata": {},
   "outputs": [
    {
     "name": "stdout",
     "output_type": "stream",
     "text": [
      "199.0\n"
     ]
    }
   ],
   "source": [
    "print(float(99) + 100)"
   ]
  },
  {
   "cell_type": "code",
   "execution_count": 11,
   "id": "004d0985-8142-4c7f-a499-70d356939139",
   "metadata": {},
   "outputs": [
    {
     "data": {
      "text/plain": [
       "int"
      ]
     },
     "execution_count": 11,
     "metadata": {},
     "output_type": "execute_result"
    }
   ],
   "source": [
    "i = 42\n",
    "type(i)"
   ]
  },
  {
   "cell_type": "code",
   "execution_count": 12,
   "id": "71394eb4-b71d-4f58-99bc-dabcfb1cb783",
   "metadata": {},
   "outputs": [
    {
     "name": "stdout",
     "output_type": "stream",
     "text": [
      "42.0\n"
     ]
    }
   ],
   "source": [
    "f = float(i)\n",
    "print(f)"
   ]
  },
  {
   "cell_type": "code",
   "execution_count": 13,
   "id": "05727bfa-78ce-4e35-ae10-9ef8bd8b4b1c",
   "metadata": {},
   "outputs": [
    {
     "data": {
      "text/plain": [
       "float"
      ]
     },
     "execution_count": 13,
     "metadata": {},
     "output_type": "execute_result"
    }
   ],
   "source": [
    "type(f)"
   ]
  },
  {
   "cell_type": "markdown",
   "id": "a94aa73e-629b-4904-a94a-6d26b122bb27",
   "metadata": {},
   "source": [
    "## INTEGER DIVISION\n",
    "\n",
    "- Integer division produces a floating point result"
   ]
  },
  {
   "cell_type": "code",
   "execution_count": 14,
   "id": "dbc98b3b-c37a-43c1-9f41-d2696dcef539",
   "metadata": {},
   "outputs": [
    {
     "name": "stdout",
     "output_type": "stream",
     "text": [
      "5.0\n"
     ]
    }
   ],
   "source": [
    "print(10 / 2)"
   ]
  },
  {
   "cell_type": "raw",
   "id": "cb408179-ec1c-4529-9709-03e252fd4801",
   "metadata": {},
   "source": [
    "print(9/2)"
   ]
  },
  {
   "cell_type": "code",
   "execution_count": 15,
   "id": "88bd304c-053f-4ce8-a206-66546e7426e3",
   "metadata": {},
   "outputs": [
    {
     "name": "stdout",
     "output_type": "stream",
     "text": [
      "4.5\n"
     ]
    }
   ],
   "source": [
    "print(9 / 2)"
   ]
  },
  {
   "cell_type": "code",
   "execution_count": 16,
   "id": "02096893-38fe-4f41-85e0-25d917dec7c9",
   "metadata": {},
   "outputs": [
    {
     "name": "stdout",
     "output_type": "stream",
     "text": [
      "0.99\n"
     ]
    }
   ],
   "source": [
    "print(99 / 100)"
   ]
  },
  {
   "cell_type": "code",
   "execution_count": 17,
   "id": "8de7da88-7881-487a-974d-8ba9d725fb76",
   "metadata": {},
   "outputs": [
    {
     "name": "stdout",
     "output_type": "stream",
     "text": [
      "5.0\n"
     ]
    }
   ],
   "source": [
    "print(10.0 / 2.0)"
   ]
  },
  {
   "cell_type": "code",
   "execution_count": 18,
   "id": "be2f8a52-500a-4d36-8dbe-0b7520eef4af",
   "metadata": {},
   "outputs": [
    {
     "name": "stdout",
     "output_type": "stream",
     "text": [
      "0.99\n"
     ]
    }
   ],
   "source": [
    "print(99.0 / 100.0)"
   ]
  },
  {
   "cell_type": "markdown",
   "id": "46f03be1-71aa-4142-99e5-8dbb06d6ef5c",
   "metadata": {},
   "source": [
    "## STRING CONVERSIONS\n",
    "\n",
    "- You can also use int() and float() to convert between strings and integers\n",
    "- You'll get an error if the string does not contain numeric characters"
   ]
  },
  {
   "cell_type": "code",
   "execution_count": 19,
   "id": "df71bbdf-e671-49c1-b03d-76377e927e76",
   "metadata": {},
   "outputs": [
    {
     "data": {
      "text/plain": [
       "str"
      ]
     },
     "execution_count": 19,
     "metadata": {},
     "output_type": "execute_result"
    }
   ],
   "source": [
    "sval = '123'\n",
    "type(sval)"
   ]
  },
  {
   "cell_type": "code",
   "execution_count": 20,
   "id": "cbd33cee-2773-4d93-9293-a16f7f3cc060",
   "metadata": {},
   "outputs": [
    {
     "ename": "TypeError",
     "evalue": "can only concatenate str (not \"int\") to str",
     "output_type": "error",
     "traceback": [
      "\u001b[1;31m---------------------------------------------------------------------------\u001b[0m",
      "\u001b[1;31mTypeError\u001b[0m                                 Traceback (most recent call last)",
      "Input \u001b[1;32mIn [20]\u001b[0m, in \u001b[0;36m<cell line: 1>\u001b[1;34m()\u001b[0m\n\u001b[1;32m----> 1\u001b[0m \u001b[38;5;28mprint\u001b[39m(\u001b[43msval\u001b[49m\u001b[43m \u001b[49m\u001b[38;5;241;43m+\u001b[39;49m\u001b[43m \u001b[49m\u001b[38;5;241;43m1\u001b[39;49m)\n",
      "\u001b[1;31mTypeError\u001b[0m: can only concatenate str (not \"int\") to str"
     ]
    }
   ],
   "source": [
    "print(sval + 1)"
   ]
  },
  {
   "cell_type": "code",
   "execution_count": 21,
   "id": "bb435b6e-c8a3-4b2c-9670-50b42bb11dac",
   "metadata": {},
   "outputs": [
    {
     "data": {
      "text/plain": [
       "int"
      ]
     },
     "execution_count": 21,
     "metadata": {},
     "output_type": "execute_result"
    }
   ],
   "source": [
    "ival = int(sval)\n",
    "type(ival)"
   ]
  },
  {
   "cell_type": "code",
   "execution_count": 22,
   "id": "e7fbbb38-b805-4dd8-864c-72f0e51580d1",
   "metadata": {},
   "outputs": [
    {
     "name": "stdout",
     "output_type": "stream",
     "text": [
      "124\n"
     ]
    }
   ],
   "source": [
    "print(ival + 1)"
   ]
  },
  {
   "cell_type": "code",
   "execution_count": 23,
   "id": "867419e2-0e23-47c5-90b4-842112512e6a",
   "metadata": {},
   "outputs": [
    {
     "ename": "ValueError",
     "evalue": "invalid literal for int() with base 10: 'hello bob'",
     "output_type": "error",
     "traceback": [
      "\u001b[1;31m---------------------------------------------------------------------------\u001b[0m",
      "\u001b[1;31mValueError\u001b[0m                                Traceback (most recent call last)",
      "Input \u001b[1;32mIn [23]\u001b[0m, in \u001b[0;36m<cell line: 2>\u001b[1;34m()\u001b[0m\n\u001b[0;32m      1\u001b[0m nsv \u001b[38;5;241m=\u001b[39m \u001b[38;5;124m'\u001b[39m\u001b[38;5;124mhello bob\u001b[39m\u001b[38;5;124m'\u001b[39m\n\u001b[1;32m----> 2\u001b[0m niv \u001b[38;5;241m=\u001b[39m \u001b[38;5;28;43mint\u001b[39;49m\u001b[43m(\u001b[49m\u001b[43mnsv\u001b[49m\u001b[43m)\u001b[49m\n",
      "\u001b[1;31mValueError\u001b[0m: invalid literal for int() with base 10: 'hello bob'"
     ]
    }
   ],
   "source": [
    "nsv = 'hello bob'\n",
    "niv = int(nsv)"
   ]
  },
  {
   "cell_type": "markdown",
   "id": "c9886db9-85da-47fb-b75f-ccc8064a6bec",
   "metadata": {},
   "source": [
    "## USER INPUT\n",
    "\n",
    "- We can instruct python to pause and read data from the user using the input() function\n",
    "- The input() function returns a string"
   ]
  },
  {
   "cell_type": "code",
   "execution_count": null,
   "id": "6121ef15-8fc0-42ff-a58f-a522bc87ceea",
   "metadata": {},
   "outputs": [],
   "source": [
    "nam = input('who are you? ')\n",
    "print('welcome', nam)"
   ]
  },
  {
   "cell_type": "markdown",
   "id": "a4559cd9-a9ac-41f1-9878-3f0c3468ca98",
   "metadata": {},
   "source": [
    "## CONVERTING USER INPUT\n",
    "\n",
    "- If we want to read a number from the user, we must convert it from a string to number\n",
    "- using a type conversion function\n",
    "- Later we will deal with bad input data"
   ]
  },
  {
   "cell_type": "code",
   "execution_count": null,
   "id": "bcc00bb5-0fb5-4b57-ba5e-6d225ca4c5c8",
   "metadata": {},
   "outputs": [],
   "source": [
    "inp = input('Europe floor?')\n",
    "usf = int(inp) + 1\n",
    "print('US floor', usf)\n",
    "\n",
    "Europe floor? 0\n",
    "US floor 1"
   ]
  },
  {
   "cell_type": "markdown",
   "id": "bea46980-1f47-44a1-89bd-b79332b66e2f",
   "metadata": {},
   "source": [
    "## COMMENTS IN PYTHON\n",
    "\n",
    "- Anything After a # is ignored by Python\n",
    "- Why comment?\n",
    "- Describe what's going to happen in a sequence of code\n",
    "- Document who wrote the code or other ancillary information\n",
    "- Turn off a line of code - perhaps temporarily\n",
    "\n",
    "- Get the name of the file and open it \n",
    "name = input('enter file:')\n",
    "handle = open(name, 'r')\n",
    "\n",
    "- Count word frequency\n",
    "counts = dict()\n",
    "for line in handle:\n",
    "words = line.split()\n",
    "for word in words:\n",
    "counts[word] = counts.get(word, o) + 1\n",
    "\n",
    "- Find the most common word\n",
    "bigcount = None\n",
    "bigword = None\n",
    "for word, count in counts.items():\n",
    "if bigcount is None or count > bigcount:\n",
    "bigword = word\n",
    "bigcount = count\n",
    "\n",
    "- All done\n",
    "print(bigword, bigcount)"
   ]
  },
  {
   "cell_type": "markdown",
   "id": "2419a5b9-6fc6-4218-ad5e-1fea96c442d4",
   "metadata": {},
   "source": [
    "## SUMMARY\n",
    "\n",
    "- TYPE                      - INTEGER DIVISION\n",
    "- RESERVED WORDS            - CONVERSION BTW TYPES\n",
    "- VARIABLES(MNEMONIC)       - USER INPUT\n",
    "- OPERATORS                 - COMMENTS(#)\n",
    "- OPERATOR PRECEDENCE\n"
   ]
  },
  {
   "cell_type": "code",
   "execution_count": null,
   "id": "045015bf-c57f-4732-bef5-0971254b93ce",
   "metadata": {},
   "outputs": [],
   "source": []
  }
 ],
 "metadata": {
  "kernelspec": {
   "display_name": "Python 3 (ipykernel)",
   "language": "python",
   "name": "python3"
  },
  "language_info": {
   "codemirror_mode": {
    "name": "ipython",
    "version": 3
   },
   "file_extension": ".py",
   "mimetype": "text/x-python",
   "name": "python",
   "nbconvert_exporter": "python",
   "pygments_lexer": "ipython3",
   "version": "3.9.12"
  }
 },
 "nbformat": 4,
 "nbformat_minor": 5
}
